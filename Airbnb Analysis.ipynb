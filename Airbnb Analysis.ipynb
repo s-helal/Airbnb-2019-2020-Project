{
 "cells": [
  {
   "cell_type": "code",
   "execution_count": 45,
   "metadata": {},
   "outputs": [],
   "source": [
    "import pandas as pd\n",
    "import matplotlib.pyplot as plt"
   ]
  },
  {
   "cell_type": "code",
   "execution_count": 46,
   "metadata": {},
   "outputs": [],
   "source": [
    "df_19 = pd.read_csv(\"Airbnb_NYC_2019.csv\")\n",
    "df_20 = pd.read_csv(\"listings.csv\")"
   ]
  },
  {
   "cell_type": "code",
   "execution_count": 52,
   "metadata": {},
   "outputs": [
    {
     "name": "stdout",
     "output_type": "stream",
     "text": [
      "Airbnb 2019: 48895 samples, 16 columns:\n",
      " ['id' 'name' 'host_id' 'host_name' 'neighbourhood_group' 'neighbourhood'\n",
      " 'latitude' 'longitude' 'room_type' 'price' 'minimum_nights'\n",
      " 'number_of_reviews' 'last_review' 'reviews_per_month'\n",
      " 'calculated_host_listings_count' 'availability_365']\n",
      "\n",
      "Airbnb 2020: 44497 samples, 74 columns:\n",
      " ['id' 'listing_url' 'scrape_id' 'last_scraped' 'name' 'description'\n",
      " 'neighborhood_overview' 'picture_url' 'host_id' 'host_url' 'host_name'\n",
      " 'host_since' 'host_location' 'host_about' 'host_response_time'\n",
      " 'host_response_rate' 'host_acceptance_rate' 'host_is_superhost'\n",
      " 'host_thumbnail_url' 'host_picture_url' 'host_neighbourhood'\n",
      " 'host_listings_count' 'host_total_listings_count' 'host_verifications'\n",
      " 'host_has_profile_pic' 'host_identity_verified' 'neighbourhood'\n",
      " 'neighbourhood_cleansed' 'neighbourhood_group_cleansed' 'latitude'\n",
      " 'longitude' 'property_type' 'room_type' 'accommodates' 'bathrooms'\n",
      " 'bathrooms_text' 'bedrooms' 'beds' 'amenities' 'price' 'minimum_nights'\n",
      " 'maximum_nights' 'minimum_minimum_nights' 'maximum_minimum_nights'\n",
      " 'minimum_maximum_nights' 'maximum_maximum_nights'\n",
      " 'minimum_nights_avg_ntm' 'maximum_nights_avg_ntm' 'calendar_updated'\n",
      " 'has_availability' 'availability_30' 'availability_60' 'availability_90'\n",
      " 'availability_365' 'calendar_last_scraped' 'number_of_reviews'\n",
      " 'number_of_reviews_ltm' 'number_of_reviews_l30d' 'first_review'\n",
      " 'last_review' 'review_scores_rating' 'review_scores_accuracy'\n",
      " 'review_scores_cleanliness' 'review_scores_checkin'\n",
      " 'review_scores_communication' 'review_scores_location'\n",
      " 'review_scores_value' 'license' 'instant_bookable'\n",
      " 'calculated_host_listings_count'\n",
      " 'calculated_host_listings_count_entire_homes'\n",
      " 'calculated_host_listings_count_private_rooms'\n",
      " 'calculated_host_listings_count_shared_rooms' 'reviews_per_month']\n"
     ]
    }
   ],
   "source": [
    "print(\"Airbnb 2019:\", df_19.shape[0], \"samples,\", df_19.shape[1], \"columns:\\n\",\n",
    "      df_19.columns._data)\n",
    "print(\"\\nAirbnb 2020:\", df_20.shape[0], \"samples,\", df_20.shape[1], \"columns:\\n\",\n",
    "      df_20.columns._data)"
   ]
  },
  {
   "cell_type": "code",
   "execution_count": 56,
   "metadata": {},
   "outputs": [
    {
     "name": "stdout",
     "output_type": "stream",
     "text": [
      "neighbourhood_group is not in 2020 dataset\n"
     ]
    }
   ],
   "source": [
    "cols_19 = df_19.columns._data\n",
    "cols_20 = df_20.columns._data\n",
    "\n",
    "for col in cols_19:\n",
    "    if col not in cols_20:\n",
    "        print(col, \"is not in 2020 dataset\")"
   ]
  },
  {
   "cell_type": "code",
   "execution_count": 28,
   "metadata": {},
   "outputs": [
    {
     "data": {
      "text/plain": [
       "dict_keys(['_data', '_index_data', '_name', '_id', '_cache'])"
      ]
     },
     "execution_count": 28,
     "metadata": {},
     "output_type": "execute_result"
    }
   ],
   "source": [
    "# dir(pd)\n",
    "# dir(pd.DataFrame)\n",
    "df.columns.__dict__.keys()"
   ]
  }
 ],
 "metadata": {
  "kernelspec": {
   "display_name": "Python 3",
   "language": "python",
   "name": "python3"
  },
  "language_info": {
   "codemirror_mode": {
    "name": "ipython",
    "version": 3
   },
   "file_extension": ".py",
   "mimetype": "text/x-python",
   "name": "python",
   "nbconvert_exporter": "python",
   "pygments_lexer": "ipython3",
   "version": "3.8.3"
  }
 },
 "nbformat": 4,
 "nbformat_minor": 4
}
